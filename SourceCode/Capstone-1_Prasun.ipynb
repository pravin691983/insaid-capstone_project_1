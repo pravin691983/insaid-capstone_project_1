{
 "cells": [
  {
   "cell_type": "code",
   "execution_count": 1,
   "metadata": {},
   "outputs": [],
   "source": [
    "#Import Required packages\n",
    "import mysql.connector\n",
    "from mysql.connector import Error\n",
    "import pandas as pd"
   ]
  },
  {
   "cell_type": "code",
   "execution_count": 2,
   "metadata": {},
   "outputs": [
    {
     "name": "stdout",
     "output_type": "stream",
     "text": [
      "Connected to MySQL Server version  5.6.46-cll-lve\n",
      "You're connected to database:  ('Capstone1',)\n"
     ]
    }
   ],
   "source": [
    "#Connect to MySQL\n",
    "connection = mysql.connector.connect(host='cpanel.insaid.co',\n",
    "                                     database='Capstone1',\n",
    "                                         user='student',\n",
    "                                         password='student')\n",
    "if connection.is_connected():\n",
    "    db_Info = connection.get_server_info()\n",
    "    print(\"Connected to MySQL Server version \", db_Info)\n",
    "    cursor = connection.cursor()\n",
    "    cursor.execute(\"select database();\")\n",
    "    record = cursor.fetchone()\n",
    "    print(\"You're connected to database: \", record)\n"
   ]
  },
  {
   "cell_type": "code",
   "execution_count": 3,
   "metadata": {},
   "outputs": [],
   "source": [
    "#Fetching data from MySQL\n",
    "cursor.execute(\"select * from gender_age_train\")\n",
    "data1=cursor.fetchall()\n",
    "cursor.execute(\"select * from phone_brand_device_model\")\n",
    "data2=cursor.fetchall()"
   ]
  },
  {
   "cell_type": "code",
   "execution_count": 4,
   "metadata": {},
   "outputs": [],
   "source": [
    "#Converting to DataFrame\n",
    "gender_age_train=pd.DataFrame(data1)\n",
    "gender_age_train.columns=['device_id','gender','age','age_group']\n",
    "phone_brand_device_model=pd.DataFrame(data2)\n",
    "phone_brand_device_model.columns=['device_id','brand','model']"
   ]
  },
  {
   "cell_type": "code",
   "execution_count": 5,
   "metadata": {},
   "outputs": [
    {
     "data": {
      "text/html": [
       "<div>\n",
       "<style scoped>\n",
       "    .dataframe tbody tr th:only-of-type {\n",
       "        vertical-align: middle;\n",
       "    }\n",
       "\n",
       "    .dataframe tbody tr th {\n",
       "        vertical-align: top;\n",
       "    }\n",
       "\n",
       "    .dataframe thead th {\n",
       "        text-align: right;\n",
       "    }\n",
       "</style>\n",
       "<table border=\"1\" class=\"dataframe\">\n",
       "  <thead>\n",
       "    <tr style=\"text-align: right;\">\n",
       "      <th></th>\n",
       "      <th>device_id</th>\n",
       "      <th>gender</th>\n",
       "      <th>age</th>\n",
       "      <th>age_group</th>\n",
       "    </tr>\n",
       "  </thead>\n",
       "  <tbody>\n",
       "    <tr>\n",
       "      <th>0</th>\n",
       "      <td>-8076087639492063270</td>\n",
       "      <td>M</td>\n",
       "      <td>35</td>\n",
       "      <td>M32-38</td>\n",
       "    </tr>\n",
       "    <tr>\n",
       "      <th>1</th>\n",
       "      <td>-2897161552818060146</td>\n",
       "      <td>M</td>\n",
       "      <td>35</td>\n",
       "      <td>M32-38</td>\n",
       "    </tr>\n",
       "    <tr>\n",
       "      <th>2</th>\n",
       "      <td>-8260683887967679142</td>\n",
       "      <td>M</td>\n",
       "      <td>35</td>\n",
       "      <td>M32-38</td>\n",
       "    </tr>\n",
       "    <tr>\n",
       "      <th>3</th>\n",
       "      <td>-4938849341048082022</td>\n",
       "      <td>M</td>\n",
       "      <td>30</td>\n",
       "      <td>M29-31</td>\n",
       "    </tr>\n",
       "    <tr>\n",
       "      <th>4</th>\n",
       "      <td>245133531816851882</td>\n",
       "      <td>M</td>\n",
       "      <td>30</td>\n",
       "      <td>M29-31</td>\n",
       "    </tr>\n",
       "  </tbody>\n",
       "</table>\n",
       "</div>"
      ],
      "text/plain": [
       "             device_id gender  age age_group\n",
       "0 -8076087639492063270      M   35    M32-38\n",
       "1 -2897161552818060146      M   35    M32-38\n",
       "2 -8260683887967679142      M   35    M32-38\n",
       "3 -4938849341048082022      M   30    M29-31\n",
       "4   245133531816851882      M   30    M29-31"
      ]
     },
     "execution_count": 5,
     "metadata": {},
     "output_type": "execute_result"
    }
   ],
   "source": [
    "#Viewing data of gender_age_train\n",
    "gender_age_train.head()"
   ]
  },
  {
   "cell_type": "code",
   "execution_count": 6,
   "metadata": {},
   "outputs": [
    {
     "data": {
      "text/html": [
       "<div>\n",
       "<style scoped>\n",
       "    .dataframe tbody tr th:only-of-type {\n",
       "        vertical-align: middle;\n",
       "    }\n",
       "\n",
       "    .dataframe tbody tr th {\n",
       "        vertical-align: top;\n",
       "    }\n",
       "\n",
       "    .dataframe thead th {\n",
       "        text-align: right;\n",
       "    }\n",
       "</style>\n",
       "<table border=\"1\" class=\"dataframe\">\n",
       "  <thead>\n",
       "    <tr style=\"text-align: right;\">\n",
       "      <th></th>\n",
       "      <th>device_id</th>\n",
       "      <th>brand</th>\n",
       "      <th>model</th>\n",
       "    </tr>\n",
       "  </thead>\n",
       "  <tbody>\n",
       "    <tr>\n",
       "      <th>0</th>\n",
       "      <td>1877775838486905855</td>\n",
       "      <td>vivo</td>\n",
       "      <td>Y13</td>\n",
       "    </tr>\n",
       "    <tr>\n",
       "      <th>1</th>\n",
       "      <td>-3766087376657242966</td>\n",
       "      <td>小米</td>\n",
       "      <td>V183</td>\n",
       "    </tr>\n",
       "    <tr>\n",
       "      <th>2</th>\n",
       "      <td>-6238937574958215831</td>\n",
       "      <td>OPPO</td>\n",
       "      <td>R7s</td>\n",
       "    </tr>\n",
       "    <tr>\n",
       "      <th>3</th>\n",
       "      <td>8973197758510677470</td>\n",
       "      <td>三星</td>\n",
       "      <td>A368t</td>\n",
       "    </tr>\n",
       "    <tr>\n",
       "      <th>4</th>\n",
       "      <td>-2015528097870762664</td>\n",
       "      <td>小米</td>\n",
       "      <td>红米Note2</td>\n",
       "    </tr>\n",
       "  </tbody>\n",
       "</table>\n",
       "</div>"
      ],
      "text/plain": [
       "             device_id brand    model\n",
       "0  1877775838486905855  vivo      Y13\n",
       "1 -3766087376657242966    小米     V183\n",
       "2 -6238937574958215831  OPPO      R7s\n",
       "3  8973197758510677470    三星    A368t\n",
       "4 -2015528097870762664    小米  红米Note2"
      ]
     },
     "execution_count": 6,
     "metadata": {},
     "output_type": "execute_result"
    }
   ],
   "source": [
    "#Viewing data of phone_brand_device_model\n",
    "phone_brand_device_model.head()"
   ]
  },
  {
   "cell_type": "code",
   "execution_count": 7,
   "metadata": {},
   "outputs": [
    {
     "data": {
      "text/html": [
       "<div>\n",
       "<style scoped>\n",
       "    .dataframe tbody tr th:only-of-type {\n",
       "        vertical-align: middle;\n",
       "    }\n",
       "\n",
       "    .dataframe tbody tr th {\n",
       "        vertical-align: top;\n",
       "    }\n",
       "\n",
       "    .dataframe thead th {\n",
       "        text-align: right;\n",
       "    }\n",
       "</style>\n",
       "<table border=\"1\" class=\"dataframe\">\n",
       "  <thead>\n",
       "    <tr style=\"text-align: right;\">\n",
       "      <th></th>\n",
       "      <th>event_id</th>\n",
       "      <th>device_id</th>\n",
       "      <th>timestamp</th>\n",
       "      <th>longitude</th>\n",
       "      <th>latitude</th>\n",
       "      <th>city</th>\n",
       "      <th>state</th>\n",
       "    </tr>\n",
       "  </thead>\n",
       "  <tbody>\n",
       "    <tr>\n",
       "      <th>0</th>\n",
       "      <td>1.0</td>\n",
       "      <td>2.918269e+16</td>\n",
       "      <td>2016-05-01 00:55:25</td>\n",
       "      <td>77.266049</td>\n",
       "      <td>28.68161</td>\n",
       "      <td>Delhi</td>\n",
       "      <td>Delhi</td>\n",
       "    </tr>\n",
       "    <tr>\n",
       "      <th>1</th>\n",
       "      <td>7104.0</td>\n",
       "      <td>2.918269e+16</td>\n",
       "      <td>2016-05-02 09:37:02</td>\n",
       "      <td>77.266049</td>\n",
       "      <td>28.68161</td>\n",
       "      <td>Delhi</td>\n",
       "      <td>Delhi</td>\n",
       "    </tr>\n",
       "    <tr>\n",
       "      <th>2</th>\n",
       "      <td>29661.0</td>\n",
       "      <td>2.918269e+16</td>\n",
       "      <td>2016-05-04 00:56:04</td>\n",
       "      <td>77.266049</td>\n",
       "      <td>28.68161</td>\n",
       "      <td>Delhi</td>\n",
       "      <td>Delhi</td>\n",
       "    </tr>\n",
       "    <tr>\n",
       "      <th>3</th>\n",
       "      <td>33133.0</td>\n",
       "      <td>2.918269e+16</td>\n",
       "      <td>2016-05-06 05:01:15</td>\n",
       "      <td>77.266049</td>\n",
       "      <td>28.68161</td>\n",
       "      <td>Delhi</td>\n",
       "      <td>Delhi</td>\n",
       "    </tr>\n",
       "    <tr>\n",
       "      <th>4</th>\n",
       "      <td>38980.0</td>\n",
       "      <td>2.918269e+16</td>\n",
       "      <td>2016-05-06 09:55:04</td>\n",
       "      <td>77.266049</td>\n",
       "      <td>28.68161</td>\n",
       "      <td>Delhi</td>\n",
       "      <td>Delhi</td>\n",
       "    </tr>\n",
       "  </tbody>\n",
       "</table>\n",
       "</div>"
      ],
      "text/plain": [
       "   event_id     device_id            timestamp  longitude  latitude   city  \\\n",
       "0       1.0  2.918269e+16  2016-05-01 00:55:25  77.266049  28.68161  Delhi   \n",
       "1    7104.0  2.918269e+16  2016-05-02 09:37:02  77.266049  28.68161  Delhi   \n",
       "2   29661.0  2.918269e+16  2016-05-04 00:56:04  77.266049  28.68161  Delhi   \n",
       "3   33133.0  2.918269e+16  2016-05-06 05:01:15  77.266049  28.68161  Delhi   \n",
       "4   38980.0  2.918269e+16  2016-05-06 09:55:04  77.266049  28.68161  Delhi   \n",
       "\n",
       "   state  \n",
       "0  Delhi  \n",
       "1  Delhi  \n",
       "2  Delhi  \n",
       "3  Delhi  \n",
       "4  Delhi  "
      ]
     },
     "execution_count": 7,
     "metadata": {},
     "output_type": "execute_result"
    }
   ],
   "source": [
    "#Read data from events_data\n",
    "events_data=pd.read_csv(\"events_data.csv\")\n",
    "events_data.head()"
   ]
  },
  {
   "cell_type": "code",
   "execution_count": 8,
   "metadata": {},
   "outputs": [
    {
     "name": "stdout",
     "output_type": "stream",
     "text": [
      "(74645, 4)\n",
      "(87726, 3)\n",
      "(3252950, 7)\n"
     ]
    }
   ],
   "source": [
    "#Getting Number of observations in each dataset\n",
    "print(gender_age_train.shape)\n",
    "print(phone_brand_device_model.shape)\n",
    "print(events_data.shape)"
   ]
  },
  {
   "cell_type": "code",
   "execution_count": 9,
   "metadata": {},
   "outputs": [
    {
     "data": {
      "text/plain": [
       "event_id       0\n",
       "device_id    453\n",
       "timestamp      0\n",
       "longitude    423\n",
       "latitude     423\n",
       "city           0\n",
       "state        377\n",
       "dtype: int64"
      ]
     },
     "execution_count": 9,
     "metadata": {},
     "output_type": "execute_result"
    }
   ],
   "source": [
    "#Checking Null values in Event_Data\n",
    "events_data.isnull().sum()"
   ]
  },
  {
   "cell_type": "code",
   "execution_count": 10,
   "metadata": {},
   "outputs": [],
   "source": [
    "#Sort Event_Data for forward filling the missing states fields\n",
    "events_data.sort_values(by=['state','city'],inplace=True)"
   ]
  },
  {
   "cell_type": "code",
   "execution_count": 11,
   "metadata": {},
   "outputs": [],
   "source": [
    "#forward filling the missing states fields\n",
    "events_data['state']=events_data['state'].ffill(axis=0)"
   ]
  },
  {
   "cell_type": "code",
   "execution_count": 12,
   "metadata": {},
   "outputs": [],
   "source": [
    "#Filling Missing values of latitude by Average in that city\n",
    "events_data['latitude']=events_data['latitude'].fillna(events_data.groupby('city')['latitude'].transform('mean'))"
   ]
  },
  {
   "cell_type": "code",
   "execution_count": 13,
   "metadata": {},
   "outputs": [],
   "source": [
    "##Filling Missing values pf longitude by Average in that city\n",
    "events_data['longitude']=events_data['longitude'].fillna(events_data.groupby('city')['longitude'].transform('mean'))"
   ]
  },
  {
   "cell_type": "code",
   "execution_count": 14,
   "metadata": {},
   "outputs": [
    {
     "data": {
      "text/plain": [
       "event_id       0\n",
       "device_id    453\n",
       "timestamp      0\n",
       "longitude      0\n",
       "latitude       0\n",
       "city           0\n",
       "state          0\n",
       "dtype: int64"
      ]
     },
     "execution_count": 14,
     "metadata": {},
     "output_type": "execute_result"
    }
   ],
   "source": [
    "#Checking NULL values after replacing them\n",
    "events_data.isnull().sum()"
   ]
  },
  {
   "cell_type": "code",
   "execution_count": 15,
   "metadata": {},
   "outputs": [
    {
     "data": {
      "text/plain": [
       "device_id    0\n",
       "gender       0\n",
       "age          0\n",
       "age_group    0\n",
       "dtype: int64"
      ]
     },
     "execution_count": 15,
     "metadata": {},
     "output_type": "execute_result"
    }
   ],
   "source": [
    "#Checking Null values in gender_age_train\n",
    "gender_age_train.isnull().sum()"
   ]
  },
  {
   "cell_type": "code",
   "execution_count": 16,
   "metadata": {},
   "outputs": [
    {
     "data": {
      "text/plain": [
       "device_id    0\n",
       "brand        0\n",
       "model        0\n",
       "dtype: int64"
      ]
     },
     "execution_count": 16,
     "metadata": {},
     "output_type": "execute_result"
    }
   ],
   "source": [
    "#Checking Null values in phone_brand_device_model\n",
    "phone_brand_device_model.isnull().sum()"
   ]
  }
 ],
 "metadata": {
  "kernelspec": {
   "display_name": "Python 3",
   "language": "python",
   "name": "python3"
  },
  "language_info": {
   "codemirror_mode": {
    "name": "ipython",
    "version": 3
   },
   "file_extension": ".py",
   "mimetype": "text/x-python",
   "name": "python",
   "nbconvert_exporter": "python",
   "pygments_lexer": "ipython3",
   "version": "3.7.1"
  }
 },
 "nbformat": 4,
 "nbformat_minor": 2
}
