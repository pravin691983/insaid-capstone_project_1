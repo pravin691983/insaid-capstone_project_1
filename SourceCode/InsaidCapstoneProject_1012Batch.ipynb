{
 "cells": [
  {
   "cell_type": "code",
   "execution_count": null,
   "metadata": {
    "colab": {},
    "colab_type": "code",
    "id": "QmUhO_Od3Ykt"
   },
   "outputs": [],
   "source": [
    "import mysql.connector as con\n",
    "from mysql.connector import Error\n",
    "import pandas as pd\n",
    "import numpy as np\n",
    "import matplotlib as mb\n",
    "import matplotlib.pyplot as plt\n",
    "import seaborn as sb\n",
    "%matplotlib inline"
   ]
  },
  {
   "cell_type": "code",
   "execution_count": null,
   "metadata": {
    "colab": {
     "base_uri": "https://localhost:8080/",
     "height": 205
    },
    "colab_type": "code",
    "id": "gmW5maE57aXm",
    "outputId": "9c6cc110-8944-4b47-cca3-e5c2c6c89a98"
   },
   "outputs": [],
   "source": [
    "#pip install mysql-connector-python-rf"
   ]
  },
  {
   "cell_type": "code",
   "execution_count": null,
   "metadata": {
    "colab": {},
    "colab_type": "code",
    "id": "ptQ2R3XYLOjC"
   },
   "outputs": [],
   "source": [
    "def database_connection(userId,pwd,hostname,dbinfo):\n",
    "   cnx = con.connect(user=userId,passwd=pwd,host=hostname,database=dbinfo)\n",
    "   return cnx\n",
    "\n",
    "def fetch_columns(tablename,connection):\n",
    "   colnames = list()\n",
    "   datatypes = list()\n",
    "   cursor = connection.cursor()\n",
    "   query=\"desc \" + tablename;\n",
    "   cursor.execute(query)\n",
    "   record = cursor.fetchone()\n",
    "   while record != None:\n",
    "      colnames.append(record[0])\n",
    "      datatypes.append(record[1])\n",
    "      record = cursor.fetchone()\n",
    "   cursor.close()\n",
    "   return colnames,datatypes\n",
    "\n",
    "def fetch_records(tablename,connection):\n",
    "   cursor = connection.cursor()\n",
    "   query=\"select * from \" + tablename\n",
    "   cursor.execute(query)\n",
    "   records = list(cursor.fetchall())\n",
    "   cursor.close()\n",
    "   return records\n",
    "   "
   ]
  },
  {
   "cell_type": "code",
   "execution_count": null,
   "metadata": {
    "colab": {
     "base_uri": "https://localhost:8080/",
     "height": 50
    },
    "colab_type": "code",
    "id": "QYzFcmFzORkq",
    "outputId": "e2f75541-4825-41f6-9094-149cd9b53204"
   },
   "outputs": [],
   "source": [
    "dataF = {}\n",
    "def ExtractData(tablename,connection):\n",
    "   columnNames = list()\n",
    "   dataTypes = list()\n",
    "   dataList = list()\n",
    "   columnNames, dataTypes = fetch_columns(tablename, connection)\n",
    "   dataList = fetch_records(tablename,connection)\n",
    "   df = pd.DataFrame(data=dataList,columns=columnNames)\n",
    "   print(columnNames)\n",
    "   return df\n",
    "   \n",
    "def EstablishConnection(userId,pwd,host,db):   \n",
    "   connection = database_connection(userId,pwd,host,db)\n",
    "   try:\n",
    "      if connection.is_connected():\n",
    "         number = 0\n",
    "         for table in TableList:\n",
    "            dataF[number] = ExtractData(table,connection)\n",
    "            number = number + 1\n",
    "   except Error as e:\n",
    "      print(\"ERROR while connection to Mysql\", e)\n",
    "   finally:\n",
    "      if connection.is_connected():\n",
    "         connection.close()\n",
    "   return\n",
    "\n",
    "TableList = ['gender_age_train','phone_brand_device_model']\n",
    "EstablishConnection('student','student','cpanel.insaid.co','Capstone1')"
   ]
  },
  {
   "cell_type": "code",
   "execution_count": null,
   "metadata": {
    "colab": {},
    "colab_type": "code",
    "id": "hayiIPHAvshl"
   },
   "outputs": [],
   "source": [
    "eventsData = pd.read_csv('events_data_1012.csv')"
   ]
  },
  {
   "cell_type": "code",
   "execution_count": null,
   "metadata": {
    "colab": {
     "base_uri": "https://localhost:8080/",
     "height": 121
    },
    "colab_type": "code",
    "id": "j5Q0gHfA4EEL",
    "outputId": "a7f890ae-9af0-4918-e4f3-2baf33e44ba0"
   },
   "outputs": [],
   "source": [
    "#pip install py-translate"
   ]
  },
  {
   "cell_type": "code",
   "execution_count": null,
   "metadata": {
    "colab": {
     "base_uri": "https://localhost:8080/",
     "height": 402
    },
    "colab_type": "code",
    "id": "008OsdaJ7S9O",
    "outputId": "8f793b50-9c20-412b-a932-93443dba50d1"
   },
   "outputs": [],
   "source": [
    "eventsData.isnull().sum()"
   ]
  },
  {
   "cell_type": "code",
   "execution_count": null,
   "metadata": {},
   "outputs": [],
   "source": [
    "cityDict = dict()\n",
    "cityDict = eventsData.set_index('city')['state'].to_dict()\n",
    "eventsData['state'].fillna(eventsData.city.map(cityDict),inplace=True)\n",
    "eventsData"
   ]
  },
  {
   "cell_type": "code",
   "execution_count": null,
   "metadata": {},
   "outputs": [],
   "source": [
    "longDict = eventsData.set_index('city')['longitude'].to_dict()\n",
    "latDict = eventsData.set_index('city')['latitude'].to_dict()\n",
    "eventsData['longitude'].fillna(eventsData.city.map(longDict),inplace=True)\n",
    "eventsData['latitude'].fillna(eventsData.city.map(latDict),inplace=True)"
   ]
  },
  {
   "cell_type": "code",
   "execution_count": null,
   "metadata": {},
   "outputs": [],
   "source": [
    "latDeviceDict = eventsData.set_index('latitude')['device_id'].to_dict()\n",
    "eventsData['device_id'].fillna(eventsData.latitude.map(latDeviceDict), inplace=True)\n",
    "eventsData[eventsData['device_id'].isna()]"
   ]
  },
  {
   "cell_type": "code",
   "execution_count": null,
   "metadata": {
    "colab": {
     "base_uri": "https://localhost:8080/",
     "height": 272
    },
    "colab_type": "code",
    "id": "Ivn6zCpB9-pT",
    "outputId": "73e3c0d8-f936-40c3-9b1f-4f8a1994b795"
   },
   "outputs": [],
   "source": [
    "eventsData.isnull().sum()"
   ]
  },
  {
   "cell_type": "code",
   "execution_count": null,
   "metadata": {
    "colab": {
     "base_uri": "https://localhost:8080/",
     "height": 222
    },
    "colab_type": "code",
    "id": "FxmXg0lpY4mx",
    "outputId": "da20b913-4e55-475c-c37b-67147d402908"
   },
   "outputs": [],
   "source": [
    "#!pip install langdetect\n",
    "eventsData.info()"
   ]
  },
  {
   "cell_type": "code",
   "execution_count": null,
   "metadata": {},
   "outputs": [],
   "source": [
    "dataF[0]['device_id'] = dataF[0]['device_id'].abs()\n",
    "dataF[1]['device_id'] = dataF[1]['device_id'].abs()"
   ]
  },
  {
   "cell_type": "code",
   "execution_count": null,
   "metadata": {},
   "outputs": [],
   "source": [
    "df = pd.DataFrame()\n",
    "df = pd.merge(dataF[0], dataF[1], how='inner', on='device_id')\n",
    "df"
   ]
  },
  {
   "cell_type": "code",
   "execution_count": null,
   "metadata": {},
   "outputs": [],
   "source": [
    "len(df['phone_brand'].unique())"
   ]
  },
  {
   "cell_type": "code",
   "execution_count": null,
   "metadata": {},
   "outputs": [],
   "source": [
    "eventsData['device_id'] = eventsData['device_id'].abs()"
   ]
  },
  {
   "cell_type": "code",
   "execution_count": null,
   "metadata": {},
   "outputs": [],
   "source": [
    "eventsMerged = pd.merge(eventsData,df,how='inner',on='device_id')\n",
    "eventsMerged"
   ]
  },
  {
   "cell_type": "code",
   "execution_count": null,
   "metadata": {},
   "outputs": [],
   "source": [
    "phoneBrandDict = dict()\n",
    "phoneBrandDict = {'华为':'Huawei', '小米':'Xiaomi','三星':'Samsung','魅族':'Meizu','酷派':'Coolpad','乐视':'LeEco', '联想':'Lenovo'}\n",
    "eventsMerged['phone_brand'].replace(phoneBrandDict,inplace=True)\n",
    "eventsMerged"
   ]
  },
  {
   "cell_type": "code",
   "execution_count": null,
   "metadata": {},
   "outputs": [],
   "source": [
    "import folium\n",
    "from IPython.display import display"
   ]
  },
  {
   "cell_type": "code",
   "execution_count": null,
   "metadata": {},
   "outputs": [],
   "source": [
    "tooltip = 'Click me!'\n",
    "m = folium.Map(location=[28.730140,77.225676], zoom_start=5)\n",
    "m.save('index.html')"
   ]
  },
  {
   "cell_type": "code",
   "execution_count": null,
   "metadata": {},
   "outputs": [],
   "source": [
    "latLongCityList = eventsMerged.groupby(['latitude','longitude'])['city']\n",
    "#.append(eventsData['city']).unique()\n",
    "latLongdf = latLongCityList.first().to_frame(name=\"city\")\n",
    "latLongdf = latLongdf.reset_index()\n",
    "latLongdf"
   ]
  },
  {
   "cell_type": "code",
   "execution_count": null,
   "metadata": {},
   "outputs": [],
   "source": [
    "for each in latLongdf.iterrows():\n",
    "    folium.Marker(location=[each[1]['latitude'],each[1]['longitude']], popup=each[1]['city']).add_to(m)\n",
    "\n",
    "m.save('index.html')"
   ]
  },
  {
   "cell_type": "code",
   "execution_count": null,
   "metadata": {},
   "outputs": [],
   "source": [
    "from  geopy.geocoders import Nominatim"
   ]
  },
  {
   "cell_type": "code",
   "execution_count": null,
   "metadata": {},
   "outputs": [],
   "source": [
    "geolocator = Nominatim()\n",
    "city=\"Indore\"\n",
    "country=\"India\"\n",
    "loc = geolocator.geocode(city+','+ country)\n",
    "print(\"latitude is :-\" ,loc.latitude,\"\\nlongtitude is:-\" ,loc.longitude)"
   ]
  },
  {
   "cell_type": "code",
   "execution_count": null,
   "metadata": {},
   "outputs": [],
   "source": [
    "latLongdf[latLongdf['city']=='Indore']"
   ]
  },
  {
   "cell_type": "code",
   "execution_count": null,
   "metadata": {},
   "outputs": [],
   "source": [
    "latLongdf[((latLongdf['latitude'] < 22.0) | (latLongdf['latitude'] > 23.0)) & (latLongdf['city'] == \"Indore\")] "
   ]
  },
  {
   "cell_type": "code",
   "execution_count": null,
   "metadata": {},
   "outputs": [],
   "source": [
    "latLongCityCount = pd.DataFrame({'count' : eventsMerged.groupby(['latitude','longitude','city'])['city'].size()}).reset_index()\n",
    "latLongCityCount[latLongCityCount['city'] == \"Indore\"]"
   ]
  },
  {
   "cell_type": "code",
   "execution_count": null,
   "metadata": {},
   "outputs": [],
   "source": [
    "lat = latLongCityCount[latLongCityCount['count'] == latLongCityCount[latLongCityCount['city'] == \"Indore\"]['count'].max()]['latitude']\n",
    "lon = latLongCityCount[latLongCityCount['count'] == latLongCityCount[latLongCityCount['city'] == \"Indore\"]['count'].max()]['longitude']"
   ]
  },
  {
   "cell_type": "code",
   "execution_count": null,
   "metadata": {},
   "outputs": [],
   "source": [
    "latList = list(latLongdf[((latLongdf['latitude'] < 22.0) | (latLongdf['latitude'] > 23.0)) & (latLongdf['city'] == \"Indore\")]['latitude'])\n",
    "lonList = list(latLongdf[((latLongdf['latitude'] < 22.0) | (latLongdf['latitude'] > 23.0)) & (latLongdf['city'] == \"Indore\")]['longitude'])"
   ]
  },
  {
   "cell_type": "code",
   "execution_count": null,
   "metadata": {},
   "outputs": [],
   "source": [
    "print(latList)\n",
    "print(lonList)"
   ]
  },
  {
   "cell_type": "code",
   "execution_count": null,
   "metadata": {},
   "outputs": [],
   "source": [
    "#eventsMerged['latitude'] = eventsMerged['latitude'].astype(str)\n",
    "#eventsMerged['longitude'] = eventsMerged['longitude'].astype(str)"
   ]
  },
  {
   "cell_type": "code",
   "execution_count": null,
   "metadata": {},
   "outputs": [],
   "source": [
    "for l1,l2 in zip(latList,lonList):\n",
    "    for i in eventsMerged[eventsMerged['city'] == \"Indore\"]['latitude'].loc[eventsMerged['latitude'] == l1].index.values.tolist():\n",
    "        eventsMerged.at[i,'latitude'] = lat.values[0]\n",
    "        eventsMerged.at[i,'longitude'] = lon.values[0]"
   ]
  },
  {
   "cell_type": "code",
   "execution_count": null,
   "metadata": {},
   "outputs": [],
   "source": [
    "#eventsMerged['latitude'] = eventsMerged['latitude'].astype('float64')\n",
    "#eventsMerged['longitude'] = eventsMerged['longitude'].astype('float64')"
   ]
  },
  {
   "cell_type": "code",
   "execution_count": null,
   "metadata": {},
   "outputs": [],
   "source": [
    "eventsMerged[((eventsMerged['latitude'] < 22.0) | (eventsMerged['latitude'] > 23.0)) & (eventsMerged['city'] == \"Indore\")] "
   ]
  },
  {
   "cell_type": "code",
   "execution_count": null,
   "metadata": {},
   "outputs": [],
   "source": [
    "for l1,l2 in zip(latList,lonList):\n",
    "    for i in latLongdf[latLongdf['city'] == \"Indore\"]['latitude'].loc[latLongdf['latitude'] == l1].index.values.tolist():\n",
    "        latLongdf.at[i,'latitude'] = lat.values[0]\n",
    "        latLongdf.at[i,'longitude'] = lon.values[0]"
   ]
  },
  {
   "cell_type": "code",
   "execution_count": null,
   "metadata": {},
   "outputs": [],
   "source": [
    "for each in latLongdf.iterrows():\n",
    "    folium.Marker(location=[each[1]['latitude'],each[1]['longitude']], popup=each[1]['city']).add_to(m)\n",
    "\n",
    "m.save('index.html')"
   ]
  },
  {
   "cell_type": "code",
   "execution_count": null,
   "metadata": {},
   "outputs": [],
   "source": [
    "eventsMerged['state'].unique()"
   ]
  },
  {
   "cell_type": "code",
   "execution_count": null,
   "metadata": {},
   "outputs": [],
   "source": [
    "plt.figure(figsize=(10,10))\n",
    "sb.countplot(x=\"state\",data=eventsMerged)\n",
    "plt.xticks(rotation=90)\n",
    "plt.title(\"India Province\")\n",
    "plt.xlabel(\"State\")\n",
    "plt.ylabel(\"Count\")\n",
    "plt.show()"
   ]
  },
  {
   "cell_type": "code",
   "execution_count": null,
   "metadata": {},
   "outputs": [],
   "source": [
    "phoneBranddf = pd.DataFrame({'count' : eventsMerged.groupby('phone_brand').size()}).reset_index()\n",
    "phoneBranddf = phoneBranddf.sort_values('count',ascending=False).head(10)\n",
    "phoneBranddf"
   ]
  },
  {
   "cell_type": "code",
   "execution_count": null,
   "metadata": {},
   "outputs": [],
   "source": [
    "phoneBranddf['phone_brand'].values.tolist()"
   ]
  },
  {
   "cell_type": "code",
   "execution_count": null,
   "metadata": {},
   "outputs": [],
   "source": [
    "plt.figure(figsize=(10,10))\n",
    "sb.barplot(x=\"phone_brand\",y=\"count\",data=phoneBranddf)\n",
    "plt.xticks(rotation=90)\n",
    "plt.title(\"Brand\")\n",
    "plt.xlabel(\"Phone Brand\")\n",
    "#plt.axes(xticklabels=phoneBranddf['phone_brand'].values.tolist(), rotation=90)\n",
    "plt.ylabel(\"Count\")\n",
    "plt.show()"
   ]
  },
  {
   "cell_type": "code",
   "execution_count": null,
   "metadata": {},
   "outputs": [],
   "source": [
    "sb.countplot(x='gender',data=eventsMerged)\n",
    "plt.title(\"Gender Distribution\")\n",
    "plt.xlabel(\"Gender\")\n",
    "#plt.axes(xticklabels=phoneBranddf['phone_brand'].values.tolist(), rotation=90)\n",
    "plt.ylabel(\"Count\")\n",
    "plt.show()"
   ]
  },
  {
   "cell_type": "code",
   "execution_count": null,
   "metadata": {},
   "outputs": [],
   "source": [
    "plt.figure(figsize=(10,10))\n",
    "sb.countplot(x='group',data=eventsMerged)\n",
    "plt.xticks(rotation=90)\n",
    "plt.title(\"Distrribution of Age Segements\")\n",
    "plt.xlabel(\"Age group\")\n",
    "plt.ylabel(\"Count\")\n",
    "plt.show()"
   ]
  },
  {
   "cell_type": "code",
   "execution_count": null,
   "metadata": {},
   "outputs": [],
   "source": [
    "#sb.FacetGrid()\n",
    "#ventsMerged.groupby(['phone_brand','group','state','gender'])\n",
    "#ventsMerged.groupby"
   ]
  },
  {
   "cell_type": "code",
   "execution_count": null,
   "metadata": {},
   "outputs": [],
   "source": [
    "TopBranddf = eventsMerged[eventsMerged.phone_brand.isin(phoneBranddf['phone_brand'].values.tolist())]\n",
    "TopBranddf"
   ]
  },
  {
   "cell_type": "code",
   "execution_count": null,
   "metadata": {},
   "outputs": [],
   "source": [
    "TopBranddf.drop_duplicates('device_id')"
   ]
  },
  {
   "cell_type": "code",
   "execution_count": null,
   "metadata": {},
   "outputs": [],
   "source": [
    "plt.figure(figsize=(100,100), dpi= 80)\n",
    "sb.set(style=\"ticks\", color_codes=True)\n",
    "g = sb.FacetGrid(data=TopBranddf, row='phone_brand', col='state', hue='group',margin_titles=True, aspect=10)\n",
    "g = g.map(plt.hist,'gender')\n",
    "plt.show()"
   ]
  },
  {
   "cell_type": "code",
   "execution_count": null,
   "metadata": {},
   "outputs": [],
   "source": [
    "sb.catplot(data=TopBranddf, row='state', col='group',hue='gender', x= 'phone_brand', kind='count', height=2.5, aspect=3)"
   ]
  },
  {
   "cell_type": "code",
   "execution_count": null,
   "metadata": {},
   "outputs": [],
   "source": [
    "sb.catplot(data=TopBranddf, row='state', col='phone_brand',hue='group', x= 'gender', kind='count', height=2.5, aspect=3)"
   ]
  },
  {
   "cell_type": "code",
   "execution_count": null,
   "metadata": {},
   "outputs": [],
   "source": [
    "sb.catplot(data=TopBranddf, row='gender', col='phone_brand',hue='state', x= 'group', kind='count', height=2.5, aspect=3)"
   ]
  },
  {
   "cell_type": "code",
   "execution_count": null,
   "metadata": {},
   "outputs": [],
   "source": [
    "len(TopBranddf['device_id'].unique())"
   ]
  },
  {
   "cell_type": "code",
   "execution_count": null,
   "metadata": {},
   "outputs": [],
   "source": [
    "m = folium.Map(location=[48, -102], zoom_start=3)\n",
    "\n",
    "folium.Choropleth(name='choropleth', data=eventsMerged, columns=['state','device_id'], legend_name='Customer Distribution in India').add_to(m)\n",
    "\n",
    "m"
   ]
  },
  {
   "cell_type": "code",
   "execution_count": null,
   "metadata": {},
   "outputs": [],
   "source": [
    "eventsMerged.timestamp = eventsMerged.timestamp.astype('datetime64')"
   ]
  },
  {
   "cell_type": "code",
   "execution_count": null,
   "metadata": {},
   "outputs": [],
   "source": [
    "eventsMerged.info()"
   ]
  },
  {
   "cell_type": "code",
   "execution_count": null,
   "metadata": {},
   "outputs": [],
   "source": [
    "timedf = eventsMerged.set_index('timestamp')\n",
    "timedf['Year'] = timedf.index.year\n",
    "timedf['Hour'] = timedf.index.hour\n",
    "timedf['Month'] = timedf.index.month\n",
    "timedf['Day'] = timedf.index.day\n",
    "timedf['Weekday Name'] = timedf.index.weekday_name"
   ]
  },
  {
   "cell_type": "code",
   "execution_count": null,
   "metadata": {},
   "outputs": [],
   "source": [
    "timedf = timedf.reset_index()"
   ]
  },
  {
   "cell_type": "code",
   "execution_count": null,
   "metadata": {},
   "outputs": [],
   "source": [
    "timedf"
   ]
  },
  {
   "cell_type": "code",
   "execution_count": null,
   "metadata": {},
   "outputs": [],
   "source": [
    "sb.boxplot(x='Hour',data=timedf)\n",
    "plt.title(\"Hourly Distrribution of Phone calls\")\n",
    "plt.xlabel(\"Age group\")\n",
    "plt.ylabel(\"Count\")\n",
    "plt.show()"
   ]
  },
  {
   "cell_type": "code",
   "execution_count": null,
   "metadata": {},
   "outputs": [],
   "source": []
  }
 ],
 "metadata": {
  "colab": {
   "collapsed_sections": [],
   "name": "InsaidCapstoneProject_1012Batch.ipynb",
   "provenance": []
  },
  "kernelspec": {
   "display_name": "Python 3",
   "language": "python",
   "name": "python3"
  },
  "language_info": {
   "codemirror_mode": {
    "name": "ipython",
    "version": 3
   },
   "file_extension": ".py",
   "mimetype": "text/x-python",
   "name": "python",
   "nbconvert_exporter": "python",
   "pygments_lexer": "ipython3",
   "version": "3.7.0"
  }
 },
 "nbformat": 4,
 "nbformat_minor": 1
}
