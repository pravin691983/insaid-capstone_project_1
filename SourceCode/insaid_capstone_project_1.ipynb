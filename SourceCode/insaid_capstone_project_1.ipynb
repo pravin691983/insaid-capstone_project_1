{
  "nbformat": 4,
  "nbformat_minor": 0,
  "metadata": {
    "colab": {
      "name": "Copy of  insaid-capstone_project_1.ipynb",
      "provenance": [],
      "collapsed_sections": [],
      "authorship_tag": "ABX9TyMJC75wuyWkOyTg1sQ8U7r+",
      "include_colab_link": true
    },
    "kernelspec": {
      "name": "python3",
      "display_name": "Python 3"
    }
  },
  "cells": [
    {
      "cell_type": "markdown",
      "metadata": {
        "id": "view-in-github",
        "colab_type": "text"
      },
      "source": [
        "<a href=\"https://colab.research.google.com/github/pravin691983/insaid-capstone_project_1/blob/development/SourceCode/insaid_capstone_project_1.ipynb\" target=\"_parent\"><img src=\"https://colab.research.google.com/assets/colab-badge.svg\" alt=\"Open In Colab\"/></a>"
      ]
    },
    {
      "cell_type": "markdown",
      "metadata": {
        "id": "iCLkqnRalNBt",
        "colab_type": "text"
      },
      "source": [
        "# **INSAID - Capstone Project on Data Analytics**\n"
      ]
    },
    {
      "cell_type": "markdown",
      "metadata": {
        "id": "gEttZZArm4A9",
        "colab_type": "text"
      },
      "source": [
        "# Problem Statement"
      ]
    },
    {
      "cell_type": "markdown",
      "metadata": {
        "id": "kxX-qX18m8LO",
        "colab_type": "text"
      },
      "source": [
        "**InsaidTelecom**, one of the leading telecom players, understands that customizing offering\n",
        "is very important for its business to stay competitive.\n",
        "Currently, InsaidTelecom is seeking to leverage behavioral data from more than 60% of the 50 million mobile devices active daily in India\n",
        "to help its clients better understand and interact with their audiences.\n",
        "\n"
      ]
    },
    {
      "cell_type": "markdown",
      "metadata": {
        "id": "GMpvAbQkp5HP",
        "colab_type": "text"
      },
      "source": [
        "# Objective"
      ]
    },
    {
      "cell_type": "markdown",
      "metadata": {
        "id": "7_4t0Vqxp9w2",
        "colab_type": "text"
      },
      "source": [
        "In this **consulting assignment**, Insaidians are expected to build a dashboard to understand\n",
        "user's demographic characteristics based on their mobile usage, geolocation, and mobile device properties.\n",
        "Doing so will help millions of developers and brand advertisers around the world pursue\n",
        "data-driven marketing efforts which are relevant to their users and catered to their preferences."
      ]
    },
    {
      "cell_type": "markdown",
      "metadata": {
        "id": "N5zGdiHhqEdg",
        "colab_type": "text"
      },
      "source": [
        "To help the customer the consultants are expected to have depth of clarity in the underlying data.\n",
        "How much effort has been put into cleansing and purifying the data will decide how closely have you looked at the data.\n",
        "How detailed is the observation stated in the submission report and finally how well a group presents their consulting journey.\n",
        "\n",
        "Please remember this is an analytics consulting hence, your efforts in terms of\n",
        "finding user behavior is going to directly impact the company's offerings.\n",
        "Do help the company understand what is the\n",
        "right way forward and suggest actionable insights from marketing and product terms."
      ]
    },
    {
      "cell_type": "markdown",
      "metadata": {
        "id": "DtVNrIEHnC8F",
        "colab_type": "text"
      },
      "source": [
        "# Data Loading and Description"
      ]
    },
    {
      "cell_type": "markdown",
      "metadata": {
        "id": "WAeFWebUnIur",
        "colab_type": "text"
      },
      "source": [
        "In this assignment, we are going to study the demographics of a user (gender and age) based on their app download and usage behaviors.\n",
        "The Data is collected from mobile apps that use InsaidTelecom services. Full recognition and consent from individual user of those apps have been obtained,\n",
        "and appropriate anonymization have been performed to protect privacy. Due to confidentiality, we won't provide details on how the gender and age data was obtained. <Br>\n"
      ]
    },
    {
      "cell_type": "markdown",
      "metadata": {
        "id": "bAaE7PM4q-0k",
        "colab_type": "text"
      },
      "source": [
        "The data schema can be represented in the following table: <BR>\n",
        "\n",
        "**gender_age_train** - Devices and their respective user gender, age and age_group\n",
        "\n",
        "**phone_brand_device_model** - device ids, brand, and models phone_brand: note that few brands are in Chinese\n",
        "\n",
        "// TODO :  added Table of devices list with brands\n",
        "\n",
        "**events_data** - when a user uses mobile on INSAID Telecom network, the event gets logged in this data.\n",
        "Each event has an event id, location (lat/long), and the event corresponds to frequency of mobile usage.\n",
        "timestamp: when the user is using the mobile.\n",
        "\n",
        "Download the DataSets for events_data from : [events_data.csv](https://https://drive.google.com/uc?export=download&id=1OK4yi-f1v03vS6fBMjuOLKPhNOfjzsh3)\n",
        "\n",
        "Download the DataSets for **gender_age_train** & **phone_brand_device_model** onto Python by connecting to the below\n",
        "provided MySQL instance."
      ]
    },
    {
      "cell_type": "markdown",
      "metadata": {
        "id": "-kI2TBtSrH1W",
        "colab_type": "text"
      },
      "source": [
        "\n",
        "\n",
        "---\n",
        "\n"
      ]
    },
    {
      "cell_type": "markdown",
      "metadata": {
        "id": "tnD-24Ohn5a-",
        "colab_type": "text"
      },
      "source": [
        "***Importing a library that is not in Colaboratory*** \n",
        "<Br>\n",
        "To import a library that's not in Colaboratory by default, you can use !pip install or !apt-get install."
      ]
    },
    {
      "cell_type": "code",
      "metadata": {
        "colab_type": "code",
        "id": "wXMVUvdhoebO",
        "colab": {}
      },
      "source": [
        "!pip install -q mysql-connector-python-rf"
      ],
      "execution_count": 0,
      "outputs": []
    },
    {
      "cell_type": "code",
      "metadata": {
        "id": "eQG5PWuKopw3",
        "colab_type": "code",
        "colab": {}
      },
      "source": [
        "#Import Required packages for MySQL instance\n",
        "import mysql.connector\n",
        "from mysql.connector import Error"
      ],
      "execution_count": 0,
      "outputs": []
    },
    {
      "cell_type": "markdown",
      "metadata": {
        "id": "mkZKvI0dsvmP",
        "colab_type": "text"
      },
      "source": [
        "**Importing the Dataset**"
      ]
    },
    {
      "cell_type": "code",
      "metadata": {
        "id": "U5KpSZ7msyOx",
        "colab_type": "code",
        "colab": {}
      },
      "source": [
        "import numpy as np                                                 # Implemennts milti-dimensional array and matrices\n",
        "import pandas as pd                                                # For data manipulation and analysis\n",
        "import pandas_profiling\n",
        "import matplotlib.pyplot as plt                                    # Plotting library for Python programming language and it's numerical mathematics extension NumPy\n",
        "import seaborn as sns                                              # Provides a high level interface for drawing attractive and informative statistical graphics\n",
        "\n",
        "%matplotlib inline\n",
        "sns.set()\n",
        "\n",
        "from subprocess import check_output"
      ],
      "execution_count": 0,
      "outputs": []
    },
    {
      "cell_type": "markdown",
      "metadata": {
        "id": "ZNny5-ThnTrv",
        "colab_type": "text"
      },
      "source": [
        "# Data Profiling"
      ]
    },
    {
      "cell_type": "markdown",
      "metadata": {
        "id": "JE2f1xtknW17",
        "colab_type": "text"
      },
      "source": [
        "\n",
        "*   In the upcoming sections we will first understand our dataset using various pandas functionalities.\n",
        "*   Then with the help of pandas profiling we will find which columns of our dataset need preprocessing.\n",
        "*   In preprocessing we will deal with erronous and missing values of columns.\n",
        "*   Again we will do pandas profiling to see how preprocessing have transformed our dataset.\n",
        "\n",
        "\n",
        "\n"
      ]
    },
    {
      "cell_type": "markdown",
      "metadata": {
        "id": "Ym-6LBiQtttz",
        "colab_type": "text"
      },
      "source": [
        "**3.1 Understanding the Dataset**\n",
        "\n",
        "To gain insights from data we must look into each aspect of it very carefully. We will start with observing few rows and columns of data both from the starting and from the end.\n",
        "\n",
        "Let us check the basic information of the dataset. The very basic information to know is the dimension of the dataset – rows and columns – that’s what we find out with the method shape."
      ]
    },
    {
      "cell_type": "code",
      "metadata": {
        "id": "2R1NmkfUt4E1",
        "colab_type": "code",
        "colab": {}
      },
      "source": [
        "print(\"Understanding the Dataset\")"
      ],
      "execution_count": 0,
      "outputs": []
    },
    {
      "cell_type": "markdown",
      "metadata": {
        "id": "ZdP1KlHFtv7f",
        "colab_type": "text"
      },
      "source": [
        "**3.2 Pre Profiling**\n",
        "\n",
        "By pandas profiling, **an interactive HTML report** gets generated which contins all the information about the columns of the dataset, like the counts and type of each column. Detailed information about each column, **correlation between different columns** and a sample of dataset.<Br>\n",
        "\n",
        "\n",
        "*   It gives us **visual interpretation** of each column in the data.\n",
        "*   Spread of the data can be better understood by the distribution plot.\n",
        "*   Grannular level analysis of each column."
      ]
    },
    {
      "cell_type": "code",
      "metadata": {
        "id": "2n15bpGwuJxZ",
        "colab_type": "code",
        "colab": {}
      },
      "source": [
        "profile = pandas_profiling.ProfileReport(matches_data)\n",
        "profile.to_file(outputfile=\"data_before_preprocessing.html\")"
      ],
      "execution_count": 0,
      "outputs": []
    },
    {
      "cell_type": "markdown",
      "metadata": {
        "id": "g_lmB--nuKTU",
        "colab_type": "text"
      },
      "source": [
        "Here, we have done Pandas Profiling before preprocessing our dataset, so we have named the html file as **data_before_preprocessing.html**. <Br>\n",
        "Take a look at the file and see what useful insight you can develop from it.\n",
        "Now we will process our data to better understand it."
      ]
    },
    {
      "cell_type": "markdown",
      "metadata": {
        "id": "ymvA0Duyux5u",
        "colab_type": "text"
      },
      "source": [
        "**3.3 Preprocessing**\n"
      ]
    },
    {
      "cell_type": "markdown",
      "metadata": {
        "id": "SlBabS8Ou5GP",
        "colab_type": "text"
      },
      "source": [
        "// TODO: Preprocessing"
      ]
    },
    {
      "cell_type": "markdown",
      "metadata": {
        "id": "JceNvnw4u_fG",
        "colab_type": "text"
      },
      "source": [
        "**3.4 Post Pandas Profiling**"
      ]
    },
    {
      "cell_type": "markdown",
      "metadata": {
        "id": "RVdOzHeuvEpk",
        "colab_type": "text"
      },
      "source": [
        "Now we have preprocessed the data, now the dataset doesnot contain missing values. <BR>\n",
        "You can compare the two reports, i.e **data_after_preprocessing.html** and **data_before_preprocessing.html**.\n",
        "\n",
        "\n",
        "In **data_after_preprocessing.html** report, observations:\n",
        "\n",
        "In the Dataset info, \n",
        "* Total Missing(%) = 0.0%\n",
        "* Number of variables = 13"
      ]
    },
    {
      "cell_type": "markdown",
      "metadata": {
        "id": "b10SDBSundVK",
        "colab_type": "text"
      },
      "source": [
        "# Questions"
      ]
    },
    {
      "cell_type": "markdown",
      "metadata": {
        "id": "VroxgOehnjWT",
        "colab_type": "text"
      },
      "source": [
        "// TODO: Add Question List"
      ]
    },
    {
      "cell_type": "markdown",
      "metadata": {
        "id": "Z-lSXR0bnsYk",
        "colab_type": "text"
      },
      "source": [
        "# Conclusion"
      ]
    },
    {
      "cell_type": "markdown",
      "metadata": {
        "id": "bBKetO_snvXL",
        "colab_type": "text"
      },
      "source": [
        "// TODO :"
      ]
    }
  ]
}