{
  "nbformat": 4,
  "nbformat_minor": 0,
  "metadata": {
    "colab": {
      "name": "Copy of  insaid-capstone_project_1.ipynb",
      "provenance": [],
      "collapsed_sections": [],
      "authorship_tag": "ABX9TyOgWkIAkFjOc/JhcNviatyt",
      "include_colab_link": true
    },
    "kernelspec": {
      "name": "python3",
      "display_name": "Python 3"
    }
  },
  "cells": [
    {
      "cell_type": "markdown",
      "metadata": {
        "id": "view-in-github",
        "colab_type": "text"
      },
      "source": [
        "<a href=\"https://colab.research.google.com/github/pravin691983/insaid-capstone_project_1/blob/development/SourceCode/insaid_capstone_project_1.ipynb\" target=\"_parent\"><img src=\"https://colab.research.google.com/assets/colab-badge.svg\" alt=\"Open In Colab\"/></a>"
      ]
    },
    {
      "cell_type": "markdown",
      "metadata": {
        "id": "iCLkqnRalNBt",
        "colab_type": "text"
      },
      "source": [
        "# **INSAID - Capstone Project on Data Analytics**\n"
      ]
    },
    {
      "cell_type": "markdown",
      "metadata": {
        "id": "gEttZZArm4A9",
        "colab_type": "text"
      },
      "source": [
        "# Problem Statement"
      ]
    },
    {
      "cell_type": "markdown",
      "metadata": {
        "id": "kxX-qX18m8LO",
        "colab_type": "text"
      },
      "source": [
        "// TODO :  Add description"
      ]
    },
    {
      "cell_type": "markdown",
      "metadata": {
        "id": "DtVNrIEHnC8F",
        "colab_type": "text"
      },
      "source": [
        "# Data Loading and Description"
      ]
    },
    {
      "cell_type": "markdown",
      "metadata": {
        "id": "WAeFWebUnIur",
        "colab_type": "text"
      },
      "source": [
        "// TODO: Add Description\n",
        "\n"
      ]
    },
    {
      "cell_type": "markdown",
      "metadata": {
        "id": "tnD-24Ohn5a-",
        "colab_type": "text"
      },
      "source": [
        "***Importing a library that is not in Colaboratory*** \n",
        "<Br>\n",
        "To import a library that's not in Colaboratory by default, you can use !pip install or !apt-get install."
      ]
    },
    {
      "cell_type": "code",
      "metadata": {
        "colab_type": "code",
        "id": "wXMVUvdhoebO",
        "colab": {}
      },
      "source": [
        "!pip install -q mysql-connector-python-rf"
      ],
      "execution_count": 0,
      "outputs": []
    },
    {
      "cell_type": "code",
      "metadata": {
        "id": "eQG5PWuKopw3",
        "colab_type": "code",
        "colab": {}
      },
      "source": [
        "#Import Required packages\n",
        "import mysql.connector\n",
        "from mysql.connector import Error\n",
        "import pandas as pd"
      ],
      "execution_count": 0,
      "outputs": []
    },
    {
      "cell_type": "markdown",
      "metadata": {
        "id": "ZNny5-ThnTrv",
        "colab_type": "text"
      },
      "source": [
        "# Data Profiling"
      ]
    },
    {
      "cell_type": "markdown",
      "metadata": {
        "id": "JE2f1xtknW17",
        "colab_type": "text"
      },
      "source": [
        "// TODO: "
      ]
    },
    {
      "cell_type": "markdown",
      "metadata": {
        "id": "b10SDBSundVK",
        "colab_type": "text"
      },
      "source": [
        "# Questions"
      ]
    },
    {
      "cell_type": "markdown",
      "metadata": {
        "id": "VroxgOehnjWT",
        "colab_type": "text"
      },
      "source": [
        "// TODO: Add Question List"
      ]
    },
    {
      "cell_type": "markdown",
      "metadata": {
        "id": "Z-lSXR0bnsYk",
        "colab_type": "text"
      },
      "source": [
        "# Conclusion"
      ]
    },
    {
      "cell_type": "markdown",
      "metadata": {
        "id": "bBKetO_snvXL",
        "colab_type": "text"
      },
      "source": [
        "// TODO :"
      ]
    }
  ]
}