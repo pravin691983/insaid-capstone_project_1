{
  "nbformat": 4,
  "nbformat_minor": 0,
  "metadata": {
    "colab": {
      "name": "Copy of  insaid-capstone_project_1.ipynb",
      "provenance": [],
      "collapsed_sections": [],
      "authorship_tag": "ABX9TyPsIIHQNNNm0olVQGGLPCQQ",
      "include_colab_link": true
    },
    "kernelspec": {
      "name": "python3",
      "display_name": "Python 3"
    }
  },
  "cells": [
    {
      "cell_type": "markdown",
      "metadata": {
        "id": "view-in-github",
        "colab_type": "text"
      },
      "source": [
        "<a href=\"https://colab.research.google.com/github/pravin691983/insaid-capstone_project_1/blob/development/SourceCode/insaid_capstone_project_1.ipynb\" target=\"_parent\"><img src=\"https://colab.research.google.com/assets/colab-badge.svg\" alt=\"Open In Colab\"/></a>"
      ]
    },
    {
      "cell_type": "markdown",
      "metadata": {
        "id": "iCLkqnRalNBt",
        "colab_type": "text"
      },
      "source": [
        "# **INSAID - Capstone Project on Data Analytics**\n"
      ]
    },
    {
      "cell_type": "markdown",
      "metadata": {
        "id": "gEttZZArm4A9",
        "colab_type": "text"
      },
      "source": [
        "# Problem Statement"
      ]
    },
    {
      "cell_type": "markdown",
      "metadata": {
        "id": "kxX-qX18m8LO",
        "colab_type": "text"
      },
      "source": [
        "**InsaidTelecom**, one of the leading telecom players, understands that customizing offering\n",
        "is very important for its business to stay competitive.\n",
        "Currently, InsaidTelecom is seeking to leverage behavioral data from more than 60% of the 50 million mobile devices active daily in India\n",
        "to help its clients better understand and interact with their audiences.\n",
        "\n"
      ]
    },
    {
      "cell_type": "markdown",
      "metadata": {
        "id": "GMpvAbQkp5HP",
        "colab_type": "text"
      },
      "source": [
        "# Objective"
      ]
    },
    {
      "cell_type": "markdown",
      "metadata": {
        "id": "7_4t0Vqxp9w2",
        "colab_type": "text"
      },
      "source": [
        "In this **consulting assignment**, Insaidians are expected to build a dashboard to understand\n",
        "user's demographic characteristics based on their mobile usage, geolocation, and mobile device properties.\n",
        "Doing so will help millions of developers and brand advertisers around the world pursue\n",
        "data-driven marketing efforts which are relevant to their users and catered to their preferences."
      ]
    },
    {
      "cell_type": "markdown",
      "metadata": {
        "id": "N5zGdiHhqEdg",
        "colab_type": "text"
      },
      "source": [
        "To help the customer the consultants are expected to have depth of clarity in the underlying data.\n",
        "How much effort has been put into cleansing and purifying the data will decide how closely have you looked at the data.\n",
        "How detailed is the observation stated in the submission report and finally how well a group presents their consulting journey.\n",
        "\n",
        "Please remember this is an analytics consulting hence, your efforts in terms of\n",
        "finding user behavior is going to directly impact the company's offerings.\n",
        "Do help the company understand what is the\n",
        "right way forward and suggest actionable insights from marketing and product terms."
      ]
    },
    {
      "cell_type": "markdown",
      "metadata": {
        "id": "DtVNrIEHnC8F",
        "colab_type": "text"
      },
      "source": [
        "# Data Loading and Description"
      ]
    },
    {
      "cell_type": "markdown",
      "metadata": {
        "id": "WAeFWebUnIur",
        "colab_type": "text"
      },
      "source": [
        "// TODO: Add Description\n",
        "\n"
      ]
    },
    {
      "cell_type": "markdown",
      "metadata": {
        "id": "tnD-24Ohn5a-",
        "colab_type": "text"
      },
      "source": [
        "***Importing a library that is not in Colaboratory*** \n",
        "<Br>\n",
        "To import a library that's not in Colaboratory by default, you can use !pip install or !apt-get install."
      ]
    },
    {
      "cell_type": "code",
      "metadata": {
        "colab_type": "code",
        "id": "wXMVUvdhoebO",
        "colab": {}
      },
      "source": [
        "!pip install -q mysql-connector-python-rf"
      ],
      "execution_count": 0,
      "outputs": []
    },
    {
      "cell_type": "code",
      "metadata": {
        "id": "eQG5PWuKopw3",
        "colab_type": "code",
        "colab": {}
      },
      "source": [
        "#Import Required packages\n",
        "import mysql.connector\n",
        "from mysql.connector import Error\n",
        "import pandas as pd"
      ],
      "execution_count": 0,
      "outputs": []
    },
    {
      "cell_type": "markdown",
      "metadata": {
        "id": "ZNny5-ThnTrv",
        "colab_type": "text"
      },
      "source": [
        "# Data Profiling"
      ]
    },
    {
      "cell_type": "markdown",
      "metadata": {
        "id": "JE2f1xtknW17",
        "colab_type": "text"
      },
      "source": [
        "// TODO: "
      ]
    },
    {
      "cell_type": "markdown",
      "metadata": {
        "id": "b10SDBSundVK",
        "colab_type": "text"
      },
      "source": [
        "# Questions"
      ]
    },
    {
      "cell_type": "markdown",
      "metadata": {
        "id": "VroxgOehnjWT",
        "colab_type": "text"
      },
      "source": [
        "// TODO: Add Question List"
      ]
    },
    {
      "cell_type": "markdown",
      "metadata": {
        "id": "Z-lSXR0bnsYk",
        "colab_type": "text"
      },
      "source": [
        "# Conclusion"
      ]
    },
    {
      "cell_type": "markdown",
      "metadata": {
        "id": "bBKetO_snvXL",
        "colab_type": "text"
      },
      "source": [
        "// TODO :"
      ]
    }
  ]
}