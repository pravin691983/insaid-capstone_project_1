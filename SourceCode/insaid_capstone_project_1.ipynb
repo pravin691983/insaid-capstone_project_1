{
  "nbformat": 4,
  "nbformat_minor": 0,
  "metadata": {
    "colab": {
      "name": "Copy of  insaid-capstone_project_1.ipynb",
      "provenance": [],
      "collapsed_sections": [],
      "authorship_tag": "ABX9TyMJK5l6q1n2xV9mjk7apelK",
      "include_colab_link": true
    },
    "kernelspec": {
      "name": "python3",
      "display_name": "Python 3"
    }
  },
  "cells": [
    {
      "cell_type": "markdown",
      "metadata": {
        "id": "view-in-github",
        "colab_type": "text"
      },
      "source": [
        "<a href=\"https://colab.research.google.com/github/pravin691983/insaid-capstone_project_1/blob/development/SourceCode/insaid_capstone_project_1.ipynb\" target=\"_parent\"><img src=\"https://colab.research.google.com/assets/colab-badge.svg\" alt=\"Open In Colab\"/></a>"
      ]
    },
    {
      "cell_type": "markdown",
      "metadata": {
        "id": "iCLkqnRalNBt",
        "colab_type": "text"
      },
      "source": [
        "# **INSAID - Capstone Project on Data Analytics**\n"
      ]
    },
    {
      "cell_type": "markdown",
      "metadata": {
        "id": "gEttZZArm4A9",
        "colab_type": "text"
      },
      "source": [
        "# Problem Statement"
      ]
    },
    {
      "cell_type": "markdown",
      "metadata": {
        "id": "kxX-qX18m8LO",
        "colab_type": "text"
      },
      "source": [
        "**InsaidTelecom**, one of the leading telecom players, understands that customizing offering\n",
        "is very important for its business to stay competitive.\n",
        "Currently, InsaidTelecom is seeking to leverage behavioral data from more than 60% of the 50 million mobile devices active daily in India\n",
        "to help its clients better understand and interact with their audiences.\n",
        "\n"
      ]
    },
    {
      "cell_type": "markdown",
      "metadata": {
        "id": "GMpvAbQkp5HP",
        "colab_type": "text"
      },
      "source": [
        "# Objective"
      ]
    },
    {
      "cell_type": "markdown",
      "metadata": {
        "id": "7_4t0Vqxp9w2",
        "colab_type": "text"
      },
      "source": [
        "In this **consulting assignment**, Insaidians are expected to build a dashboard to understand\n",
        "user's demographic characteristics based on their mobile usage, geolocation, and mobile device properties.\n",
        "Doing so will help millions of developers and brand advertisers around the world pursue\n",
        "data-driven marketing efforts which are relevant to their users and catered to their preferences."
      ]
    },
    {
      "cell_type": "markdown",
      "metadata": {
        "id": "N5zGdiHhqEdg",
        "colab_type": "text"
      },
      "source": [
        "To help the customer the consultants are expected to have depth of clarity in the underlying data.\n",
        "How much effort has been put into cleansing and purifying the data will decide how closely have you looked at the data.\n",
        "How detailed is the observation stated in the submission report and finally how well a group presents their consulting journey.\n",
        "\n",
        "Please remember this is an analytics consulting hence, your efforts in terms of\n",
        "finding user behavior is going to directly impact the company's offerings.\n",
        "Do help the company understand what is the\n",
        "right way forward and suggest actionable insights from marketing and product terms."
      ]
    },
    {
      "cell_type": "markdown",
      "metadata": {
        "id": "DtVNrIEHnC8F",
        "colab_type": "text"
      },
      "source": [
        "# Data Loading and Description"
      ]
    },
    {
      "cell_type": "markdown",
      "metadata": {
        "id": "WAeFWebUnIur",
        "colab_type": "text"
      },
      "source": [
        "In this assignment, we are going to study the demographics of a user (gender and age) based on their app download and usage behaviors.\n",
        "The Data is collected from mobile apps that use InsaidTelecom services. Full recognition and consent from individual user of those apps have been obtained,\n",
        "and appropriate anonymization have been performed to protect privacy. Due to confidentiality, we won't provide details on how the gender and age data was obtained. <Br>\n"
      ]
    },
    {
      "cell_type": "markdown",
      "metadata": {
        "id": "bAaE7PM4q-0k",
        "colab_type": "text"
      },
      "source": [
        "The data schema can be represented in the following table: <BR>\n",
        "\n",
        "**gender_age_train** - Devices and their respective user gender, age and age_group\n",
        "\n",
        "**phone_brand_device_model** - device ids, brand, and models phone_brand: note that few brands are in Chinese\n",
        "\n",
        "// TODO :  added Table of devices list with brands\n",
        "\n",
        "**events_data** - when a user uses mobile on INSAID Telecom network, the event gets logged in this data.\n",
        "Each event has an event id, location (lat/long), and the event corresponds to frequency of mobile usage.\n",
        "timestamp: when the user is using the mobile.\n",
        "\n",
        "Download the DataSets for events_data from : [events_data.csv](https://https://drive.google.com/uc?export=download&id=1OK4yi-f1v03vS6fBMjuOLKPhNOfjzsh3)\n",
        "\n",
        "Download the DataSets for **gender_age_train** & **phone_brand_device_model** onto Python by connecting to the below\n",
        "provided MySQL instance."
      ]
    },
    {
      "cell_type": "markdown",
      "metadata": {
        "id": "-kI2TBtSrH1W",
        "colab_type": "text"
      },
      "source": [
        "\n",
        "\n",
        "---\n",
        "\n"
      ]
    },
    {
      "cell_type": "markdown",
      "metadata": {
        "id": "tnD-24Ohn5a-",
        "colab_type": "text"
      },
      "source": [
        "***Importing a library that is not in Colaboratory*** \n",
        "<Br>\n",
        "To import a library that's not in Colaboratory by default, you can use !pip install or !apt-get install."
      ]
    },
    {
      "cell_type": "code",
      "metadata": {
        "colab_type": "code",
        "outputId": "83f8d484-728f-4479-8f0e-c6b78007ab12",
        "id": "wXMVUvdhoebO",
        "colab": {
          "base_uri": "https://localhost:8080/",
          "height": 51
        }
      },
      "source": [
        "!pip install -q mysql-connector-python-rf"
      ],
      "execution_count": 1,
      "outputs": [
        {
          "output_type": "stream",
          "text": [
            "\u001b[K     |████████████████████████████████| 11.9MB 343kB/s \n",
            "\u001b[?25h  Building wheel for mysql-connector-python-rf (setup.py) ... \u001b[?25l\u001b[?25hdone\n"
          ],
          "name": "stdout"
        }
      ]
    },
    {
      "cell_type": "markdown",
      "metadata": {
        "id": "mkZKvI0dsvmP",
        "colab_type": "text"
      },
      "source": [
        "**Importing the Dataset**"
      ]
    },
    {
      "cell_type": "code",
      "metadata": {
        "id": "U5KpSZ7msyOx",
        "colab_type": "code",
        "colab": {}
      },
      "source": [
        "import numpy as np                                                 # Implemennts milti-dimensional array and matrices\n",
        "import pandas as pd                                                # For data manipulation and analysis\n",
        "import pandas_profiling\n",
        "import matplotlib.pyplot as plt                                    # Plotting library for Python programming language and it's numerical mathematics extension NumPy\n",
        "import seaborn as sns                                              # Provides a high level interface for drawing attractive and informative statistical graphics\n",
        "\n",
        "%matplotlib inline\n",
        "sns.set()\n",
        "\n",
        "from subprocess import check_output"
      ],
      "execution_count": 0,
      "outputs": []
    },
    {
      "cell_type": "markdown",
      "metadata": {
        "id": "ZIJWJvtHyoQb",
        "colab_type": "text"
      },
      "source": [
        "\n",
        "\n",
        "---\n",
        "\n"
      ]
    },
    {
      "cell_type": "code",
      "metadata": {
        "id": "eQG5PWuKopw3",
        "colab_type": "code",
        "colab": {}
      },
      "source": [
        "#Import Required packages for MySQL instance\n",
        "import mysql.connector\n",
        "from mysql.connector import Error"
      ],
      "execution_count": 0,
      "outputs": []
    },
    {
      "cell_type": "markdown",
      "metadata": {
        "id": "PxQkCtF7yiG8",
        "colab_type": "text"
      },
      "source": [
        "**Utils functions to fetch data from MySQL**\n",
        "\n",
        "Reference : https://dev.mysql.com/doc/connector-python/en/connector-python-examples.html"
      ]
    },
    {
      "cell_type": "markdown",
      "metadata": {
        "id": "Ok1_Vsk812ct",
        "colab_type": "text"
      },
      "source": [
        "**Connecting to MySQL Using Connector/Python**"
      ]
    },
    {
      "cell_type": "code",
      "metadata": {
        "id": "kUz27DVQysO6",
        "colab_type": "code",
        "colab": {
          "base_uri": "https://localhost:8080/",
          "height": 51
        },
        "outputId": "cbf59cc0-005a-4d52-a42f-f016d0a1c456"
      },
      "source": [
        "# Defining connection arguments in a dictionary and using the ** operator is another option:\n",
        "config = {\n",
        "  'user': 'student',\n",
        "  'password': 'student',\n",
        "  'host': 'cpanel.insaid.co',\n",
        "  'database': 'Capstone1',\n",
        "  'raise_on_warnings': True\n",
        "}\n",
        "\n",
        "# The connect() constructor creates a connection to the MySQL server and returns a MySQLConnection object.\n",
        "try:\n",
        "  cnx = mysql.connector.connect(**config)\n",
        "except mysql.connector.Error as err:\n",
        "  if err.errno == errorcode.ER_ACCESS_DENIED_ERROR:\n",
        "    print(\"Something is wrong with your user name or password\")\n",
        "  elif err.errno == errorcode.ER_BAD_DB_ERROR:\n",
        "    print(\"Database does not exist\")\n",
        "  else:\n",
        "    print(err)\n",
        "else:\n",
        "  if cnx.is_connected():  \n",
        "    db_Info = cnx.get_server_info()\n",
        "    print(\"Connected to MySQL Server version \", db_Info)\n",
        "    cursor = cnx.cursor()\n",
        "    cursor.execute(\"select database();\")\n",
        "    record = cursor.fetchone()\n",
        "    print(\"You're connected to database: \", record)\n"
      ],
      "execution_count": 25,
      "outputs": [
        {
          "output_type": "stream",
          "text": [
            "Connected to MySQL Server version  5.6.46-cll-lve\n",
            "You're connected to database:  ('Capstone1',)\n"
          ],
          "name": "stdout"
        }
      ]
    },
    {
      "cell_type": "markdown",
      "metadata": {
        "id": "p0RtEMTN502n",
        "colab_type": "text"
      },
      "source": [
        "**Querying Data Using Connector/Python**"
      ]
    },
    {
      "cell_type": "code",
      "metadata": {
        "id": "D7fb8NDu6WlA",
        "colab_type": "code",
        "colab": {}
      },
      "source": [
        "#Fetching data from MySQL(Capstone1) for gender_age_train\n",
        "cursor.execute(\"select * from gender_age_train\")\n",
        "gender_age_train_data=cursor.fetchall()\n"
      ],
      "execution_count": 0,
      "outputs": []
    },
    {
      "cell_type": "code",
      "metadata": {
        "id": "0IUgv7Ya7VVn",
        "colab_type": "code",
        "colab": {
          "base_uri": "https://localhost:8080/",
          "height": 204
        },
        "outputId": "91ff2b53-804e-4416-dcb9-7ebb07eef1fd"
      },
      "source": [
        "#Converting data to DataFrame\n",
        "gender_age_train_dataframe=pd.DataFrame(gender_age_train_data)\n",
        "gender_age_train_dataframe.columns=['device_id','gender','age','age_group']\n",
        "gender_age_train_dataframe.head()"
      ],
      "execution_count": 27,
      "outputs": [
        {
          "output_type": "execute_result",
          "data": {
            "text/html": [
              "<div>\n",
              "<style scoped>\n",
              "    .dataframe tbody tr th:only-of-type {\n",
              "        vertical-align: middle;\n",
              "    }\n",
              "\n",
              "    .dataframe tbody tr th {\n",
              "        vertical-align: top;\n",
              "    }\n",
              "\n",
              "    .dataframe thead th {\n",
              "        text-align: right;\n",
              "    }\n",
              "</style>\n",
              "<table border=\"1\" class=\"dataframe\">\n",
              "  <thead>\n",
              "    <tr style=\"text-align: right;\">\n",
              "      <th></th>\n",
              "      <th>device_id</th>\n",
              "      <th>gender</th>\n",
              "      <th>age</th>\n",
              "      <th>age_group</th>\n",
              "    </tr>\n",
              "  </thead>\n",
              "  <tbody>\n",
              "    <tr>\n",
              "      <th>0</th>\n",
              "      <td>-8076087639492063270</td>\n",
              "      <td>M</td>\n",
              "      <td>35</td>\n",
              "      <td>M32-38</td>\n",
              "    </tr>\n",
              "    <tr>\n",
              "      <th>1</th>\n",
              "      <td>-2897161552818060146</td>\n",
              "      <td>M</td>\n",
              "      <td>35</td>\n",
              "      <td>M32-38</td>\n",
              "    </tr>\n",
              "    <tr>\n",
              "      <th>2</th>\n",
              "      <td>-8260683887967679142</td>\n",
              "      <td>M</td>\n",
              "      <td>35</td>\n",
              "      <td>M32-38</td>\n",
              "    </tr>\n",
              "    <tr>\n",
              "      <th>3</th>\n",
              "      <td>-4938849341048082022</td>\n",
              "      <td>M</td>\n",
              "      <td>30</td>\n",
              "      <td>M29-31</td>\n",
              "    </tr>\n",
              "    <tr>\n",
              "      <th>4</th>\n",
              "      <td>245133531816851882</td>\n",
              "      <td>M</td>\n",
              "      <td>30</td>\n",
              "      <td>M29-31</td>\n",
              "    </tr>\n",
              "  </tbody>\n",
              "</table>\n",
              "</div>"
            ],
            "text/plain": [
              "             device_id gender  age age_group\n",
              "0 -8076087639492063270      M   35    M32-38\n",
              "1 -2897161552818060146      M   35    M32-38\n",
              "2 -8260683887967679142      M   35    M32-38\n",
              "3 -4938849341048082022      M   30    M29-31\n",
              "4   245133531816851882      M   30    M29-31"
            ]
          },
          "metadata": {
            "tags": []
          },
          "execution_count": 27
        }
      ]
    },
    {
      "cell_type": "code",
      "metadata": {
        "id": "iSn8gXjr7qbA",
        "colab_type": "code",
        "colab": {}
      },
      "source": [
        "#Fetching data from MySQL(Capstone1) for phone_brand_device_model\n",
        "cursor.execute(\"select * from phone_brand_device_model\")\n",
        "phone_brand_device_model_data=cursor.fetchall()"
      ],
      "execution_count": 0,
      "outputs": []
    },
    {
      "cell_type": "code",
      "metadata": {
        "id": "KgOg-T4175LH",
        "colab_type": "code",
        "colab": {
          "base_uri": "https://localhost:8080/",
          "height": 204
        },
        "outputId": "b8201e71-b0f2-4d86-a482-44b8f62fca25"
      },
      "source": [
        "#Converting data to DataFrame\n",
        "phone_brand_device_model_dataframe=pd.DataFrame(phone_brand_device_model_data)\n",
        "phone_brand_device_model_dataframe.columns=['device_id','brand','model']\n",
        "phone_brand_device_model_dataframe.head()"
      ],
      "execution_count": 29,
      "outputs": [
        {
          "output_type": "execute_result",
          "data": {
            "text/html": [
              "<div>\n",
              "<style scoped>\n",
              "    .dataframe tbody tr th:only-of-type {\n",
              "        vertical-align: middle;\n",
              "    }\n",
              "\n",
              "    .dataframe tbody tr th {\n",
              "        vertical-align: top;\n",
              "    }\n",
              "\n",
              "    .dataframe thead th {\n",
              "        text-align: right;\n",
              "    }\n",
              "</style>\n",
              "<table border=\"1\" class=\"dataframe\">\n",
              "  <thead>\n",
              "    <tr style=\"text-align: right;\">\n",
              "      <th></th>\n",
              "      <th>device_id</th>\n",
              "      <th>brand</th>\n",
              "      <th>model</th>\n",
              "    </tr>\n",
              "  </thead>\n",
              "  <tbody>\n",
              "    <tr>\n",
              "      <th>0</th>\n",
              "      <td>1877775838486905855</td>\n",
              "      <td>vivo</td>\n",
              "      <td>Y13</td>\n",
              "    </tr>\n",
              "    <tr>\n",
              "      <th>1</th>\n",
              "      <td>-3766087376657242966</td>\n",
              "      <td>小米</td>\n",
              "      <td>V183</td>\n",
              "    </tr>\n",
              "    <tr>\n",
              "      <th>2</th>\n",
              "      <td>-6238937574958215831</td>\n",
              "      <td>OPPO</td>\n",
              "      <td>R7s</td>\n",
              "    </tr>\n",
              "    <tr>\n",
              "      <th>3</th>\n",
              "      <td>8973197758510677470</td>\n",
              "      <td>三星</td>\n",
              "      <td>A368t</td>\n",
              "    </tr>\n",
              "    <tr>\n",
              "      <th>4</th>\n",
              "      <td>-2015528097870762664</td>\n",
              "      <td>小米</td>\n",
              "      <td>红米Note2</td>\n",
              "    </tr>\n",
              "  </tbody>\n",
              "</table>\n",
              "</div>"
            ],
            "text/plain": [
              "             device_id brand    model\n",
              "0  1877775838486905855  vivo      Y13\n",
              "1 -3766087376657242966    小米     V183\n",
              "2 -6238937574958215831  OPPO      R7s\n",
              "3  8973197758510677470    三星    A368t\n",
              "4 -2015528097870762664    小米  红米Note2"
            ]
          },
          "metadata": {
            "tags": []
          },
          "execution_count": 29
        }
      ]
    },
    {
      "cell_type": "markdown",
      "metadata": {
        "id": "CjTfSpCo3fqZ",
        "colab_type": "text"
      },
      "source": [
        "**Closing connection after fetch data from DB**"
      ]
    },
    {
      "cell_type": "code",
      "metadata": {
        "id": "hCTu8chd2P6q",
        "colab_type": "code",
        "colab": {}
      },
      "source": [
        "# Closing connection after fetch data from DB\n",
        "if cnx.is_connected():  \n",
        "  cnx.close() \n",
        "  print(\"Closing database connection\")"
      ],
      "execution_count": 0,
      "outputs": []
    },
    {
      "cell_type": "markdown",
      "metadata": {
        "id": "GEQeWHbQypu7",
        "colab_type": "text"
      },
      "source": [
        "\n",
        "\n",
        "---\n",
        "\n"
      ]
    },
    {
      "cell_type": "markdown",
      "metadata": {
        "id": "ZNny5-ThnTrv",
        "colab_type": "text"
      },
      "source": [
        "# Data Profiling"
      ]
    },
    {
      "cell_type": "markdown",
      "metadata": {
        "id": "JE2f1xtknW17",
        "colab_type": "text"
      },
      "source": [
        "\n",
        "*   In the upcoming sections we will first understand our dataset using various pandas functionalities.\n",
        "*   Then with the help of pandas profiling we will find which columns of our dataset need preprocessing.\n",
        "*   In preprocessing we will deal with erronous and missing values of columns.\n",
        "*   Again we will do pandas profiling to see how preprocessing have transformed our dataset.\n",
        "\n",
        "\n",
        "\n"
      ]
    },
    {
      "cell_type": "markdown",
      "metadata": {
        "id": "EbxPePMSwqrv",
        "colab_type": "text"
      },
      "source": [
        "\n",
        "\n",
        "---\n",
        "\n"
      ]
    },
    {
      "cell_type": "markdown",
      "metadata": {
        "id": "Ym-6LBiQtttz",
        "colab_type": "text"
      },
      "source": [
        "**3.1 Understanding the Dataset**\n",
        "\n",
        "To gain insights from data we must look into each aspect of it very carefully. We will start with observing few rows and columns of data both from the starting and from the end.\n",
        "\n",
        "Let us check the basic information of the dataset. The very basic information to know is the dimension of the dataset – rows and columns – that’s what we find out with the method shape."
      ]
    },
    {
      "cell_type": "code",
      "metadata": {
        "id": "2R1NmkfUt4E1",
        "colab_type": "code",
        "colab": {}
      },
      "source": [
        "print(\"Understanding the Dataset\")"
      ],
      "execution_count": 0,
      "outputs": []
    },
    {
      "cell_type": "markdown",
      "metadata": {
        "id": "2xYcXv54wpRm",
        "colab_type": "text"
      },
      "source": [
        "\n",
        "\n",
        "---\n",
        "\n"
      ]
    },
    {
      "cell_type": "markdown",
      "metadata": {
        "id": "ZdP1KlHFtv7f",
        "colab_type": "text"
      },
      "source": [
        "**3.2 Pre Profiling**\n",
        "\n",
        "By pandas profiling, **an interactive HTML report** gets generated which contins all the information about the columns of the dataset, like the counts and type of each column. Detailed information about each column, **correlation between different columns** and a sample of dataset.<Br>\n",
        "\n",
        "\n",
        "*   It gives us **visual interpretation** of each column in the data.\n",
        "*   Spread of the data can be better understood by the distribution plot.\n",
        "*   Grannular level analysis of each column."
      ]
    },
    {
      "cell_type": "code",
      "metadata": {
        "id": "2n15bpGwuJxZ",
        "colab_type": "code",
        "colab": {}
      },
      "source": [
        "profile = pandas_profiling.ProfileReport(matches_data)\n",
        "profile.to_file(outputfile=\"data_before_preprocessing.html\")"
      ],
      "execution_count": 0,
      "outputs": []
    },
    {
      "cell_type": "markdown",
      "metadata": {
        "id": "g_lmB--nuKTU",
        "colab_type": "text"
      },
      "source": [
        "Here, we have done Pandas Profiling before preprocessing our dataset, so we have named the html file as **data_before_preprocessing.html**. <Br>\n",
        "Take a look at the file and see what useful insight you can develop from it.\n",
        "Now we will process our data to better understand it."
      ]
    },
    {
      "cell_type": "markdown",
      "metadata": {
        "id": "WaSXQVVCwstu",
        "colab_type": "text"
      },
      "source": [
        "\n",
        "\n",
        "---\n",
        "\n"
      ]
    },
    {
      "cell_type": "markdown",
      "metadata": {
        "id": "ymvA0Duyux5u",
        "colab_type": "text"
      },
      "source": [
        "**3.3 Preprocessing**\n",
        "\n",
        "Here are the challenges that are persent in the Data:\n",
        "\n",
        "1. There are nulls/zeros in \"device_id\" of events_data which should not be the case.\n",
        "2. There are nulls/zeros in \"latitude\" and \"longitude\".\n",
        "3. Some of the \"latitudes\" and \"longitudes\" are wrong.\n",
        "4. \"state\" column of events_data has null values in the DataBase. Retrieve those rows and fill them appropriatly."
      ]
    },
    {
      "cell_type": "markdown",
      "metadata": {
        "id": "MGpOBiffx_nD",
        "colab_type": "text"
      },
      "source": [
        "\n",
        "\n",
        "---\n",
        "\n"
      ]
    },
    {
      "cell_type": "markdown",
      "metadata": {
        "id": "SlBabS8Ou5GP",
        "colab_type": "text"
      },
      "source": [
        "1. Device ID cannot be null.\n",
        "\n",
        "\t- Search for other columns that might have a similar bug.\n",
        "\n"
      ]
    },
    {
      "cell_type": "code",
      "metadata": {
        "id": "8Yvbgu1WwebV",
        "colab_type": "code",
        "colab": {}
      },
      "source": [
        "print(\"Some precessing to fixed above issue\")"
      ],
      "execution_count": 0,
      "outputs": []
    },
    {
      "cell_type": "markdown",
      "metadata": {
        "id": "z-XAEd6ywWYA",
        "colab_type": "text"
      },
      "source": [
        "2. The column \"state\" of \"events_data\" has null values."
      ]
    },
    {
      "cell_type": "code",
      "metadata": {
        "id": "4TRL1LogwlUT",
        "colab_type": "code",
        "colab": {}
      },
      "source": [
        "print(\"Some precessing to fixed above issue\")"
      ],
      "execution_count": 0,
      "outputs": []
    },
    {
      "cell_type": "markdown",
      "metadata": {
        "id": "hqcHwbr2waXF",
        "colab_type": "text"
      },
      "source": [
        "3. Use folium package to plot latitudes and longitudes and see if there is any discrepancy in the position of some points. \n",
        "\n",
        "   If you find any anomaly, rectify them."
      ]
    },
    {
      "cell_type": "code",
      "metadata": {
        "id": "ev-1F83vwm26",
        "colab_type": "code",
        "colab": {}
      },
      "source": [
        "print(\"Some precessing to fixed above issue\")"
      ],
      "execution_count": 0,
      "outputs": []
    },
    {
      "cell_type": "markdown",
      "metadata": {
        "id": "aqFkZ6izwu1y",
        "colab_type": "text"
      },
      "source": [
        "\n",
        "\n",
        "---\n",
        "\n"
      ]
    },
    {
      "cell_type": "markdown",
      "metadata": {
        "id": "JceNvnw4u_fG",
        "colab_type": "text"
      },
      "source": [
        "**3.4 Post Pandas Profiling**"
      ]
    },
    {
      "cell_type": "markdown",
      "metadata": {
        "id": "RVdOzHeuvEpk",
        "colab_type": "text"
      },
      "source": [
        "Now we have preprocessed the data, now the dataset doesnot contain missing values. <BR>\n",
        "You can compare the two reports, i.e **data_after_preprocessing.html** and **data_before_preprocessing.html**.\n",
        "\n",
        "\n",
        "In **data_after_preprocessing.html** report, observations:\n",
        "\n",
        "In the Dataset info, \n",
        "* Total Missing(%) = 0.0%\n",
        "* Number of variables = 13"
      ]
    },
    {
      "cell_type": "markdown",
      "metadata": {
        "id": "4vf6GGoPwwra",
        "colab_type": "text"
      },
      "source": [
        "\n",
        "\n",
        "---\n",
        "\n"
      ]
    },
    {
      "cell_type": "markdown",
      "metadata": {
        "id": "b10SDBSundVK",
        "colab_type": "text"
      },
      "source": [
        "# Questions"
      ]
    },
    {
      "cell_type": "markdown",
      "metadata": {
        "id": "VroxgOehnjWT",
        "colab_type": "text"
      },
      "source": [
        "**1. Distribution of Users(device_id) across States.**"
      ]
    },
    {
      "cell_type": "markdown",
      "metadata": {
        "id": "QHh5FylnxIIk",
        "colab_type": "text"
      },
      "source": [
        "**2. Distribution of Users across Phone Brands(Consider only 10 Most used Phone Brands).**"
      ]
    },
    {
      "cell_type": "markdown",
      "metadata": {
        "id": "dNnaCa51xMS8",
        "colab_type": "text"
      },
      "source": [
        "**3. Distribution of Users across Gender.**"
      ]
    },
    {
      "cell_type": "markdown",
      "metadata": {
        "id": "4PUy7NMqxQhH",
        "colab_type": "text"
      },
      "source": [
        "**4. Distribution of Users across Age Segments.**"
      ]
    },
    {
      "cell_type": "markdown",
      "metadata": {
        "id": "par6_TavxUsX",
        "colab_type": "text"
      },
      "source": [
        "**5. Distribution of Phone Brands(Consider only 10 Most used Phone Brands) for each Age Segment, State, Gender.**"
      ]
    },
    {
      "cell_type": "markdown",
      "metadata": {
        "id": "12aHgWhLxZPk",
        "colab_type": "text"
      },
      "source": [
        "**6. Distribuiion of Gender for each State, Age Segment and Phone Brand(Consider only 10 Most used Phone Brands).**"
      ]
    },
    {
      "cell_type": "markdown",
      "metadata": {
        "id": "rV30fOEkxdv7",
        "colab_type": "text"
      },
      "source": [
        "**7. Distribution of Age Segments for each State, Gender and Phone Brand(Consider only 10 Most used Phone Brands).**\n",
        "\n",
        "Note: While doing analysis for the above points, consider only one instance of a particular User(device_id) as a User can do multiple phone calls and considering every instance of the same User can give misleading numbers."
      ]
    },
    {
      "cell_type": "markdown",
      "metadata": {
        "id": "OB-MC6QBxoAI",
        "colab_type": "text"
      },
      "source": [
        "**8. Hourly distribution of Phone Calls.**"
      ]
    },
    {
      "cell_type": "markdown",
      "metadata": {
        "id": "tpnvSSKuxrKZ",
        "colab_type": "text"
      },
      "source": [
        "**9. Plot the Users on the Map using any suitable package.**"
      ]
    },
    {
      "cell_type": "markdown",
      "metadata": {
        "id": "Z-lSXR0bnsYk",
        "colab_type": "text"
      },
      "source": [
        "# Conclusion"
      ]
    },
    {
      "cell_type": "markdown",
      "metadata": {
        "id": "bBKetO_snvXL",
        "colab_type": "text"
      },
      "source": [
        "// TODO :"
      ]
    }
  ]
}