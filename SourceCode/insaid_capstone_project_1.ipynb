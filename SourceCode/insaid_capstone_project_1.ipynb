{
  "nbformat": 4,
  "nbformat_minor": 0,
  "metadata": {
    "colab": {
      "name": "Copy of  insaid-capstone_project_1.ipynb",
      "provenance": [],
      "collapsed_sections": [],
      "authorship_tag": "ABX9TyNXzh3WHuyIHNoQtXyHhLRh",
      "include_colab_link": true
    },
    "kernelspec": {
      "name": "python3",
      "display_name": "Python 3"
    }
  },
  "cells": [
    {
      "cell_type": "markdown",
      "metadata": {
        "id": "view-in-github",
        "colab_type": "text"
      },
      "source": [
        "<a href=\"https://colab.research.google.com/github/pravin691983/insaid-capstone_project_1/blob/development/SourceCode/insaid_capstone_project_1.ipynb\" target=\"_parent\"><img src=\"https://colab.research.google.com/assets/colab-badge.svg\" alt=\"Open In Colab\"/></a>"
      ]
    },
    {
      "cell_type": "markdown",
      "metadata": {
        "id": "iCLkqnRalNBt",
        "colab_type": "text"
      },
      "source": [
        "**INSAID - Capstone Project on Data Analytics**"
      ]
    },
    {
      "cell_type": "code",
      "metadata": {
        "id": "3AluxNLclYv8",
        "colab_type": "code",
        "outputId": "f2a1fca6-95d8-4e6f-e01d-9ad9f894c4d3",
        "colab": {
          "base_uri": "https://localhost:8080/",
          "height": 34
        }
      },
      "source": [
        "print(\"Welcome to INSAID - Capstone Project on Data Analytics\")"
      ],
      "execution_count": 1,
      "outputs": [
        {
          "output_type": "stream",
          "text": [
            "Welcome to INSAID - Capstone Project on Data Analytics\n"
          ],
          "name": "stdout"
        }
      ]
    },
    {
      "cell_type": "markdown",
      "metadata": {
        "id": "TQx7HvUlPXPF",
        "colab_type": "text"
      },
      "source": [
        "# **Importing a library that is not in Colaboratory**\n",
        "\n",
        "To import a library that's not in Colaboratory by default, you can use !pip install or !apt-get install."
      ]
    },
    {
      "cell_type": "code",
      "metadata": {
        "id": "A1oEQSb8PiAZ",
        "colab_type": "code",
        "colab": {
          "base_uri": "https://localhost:8080/",
          "height": 51
        },
        "outputId": "be5b3fcf-4fce-432c-acf3-7714997b56f8"
      },
      "source": [
        "!pip install -q mysql-connector-python-rf"
      ],
      "execution_count": 2,
      "outputs": [
        {
          "output_type": "stream",
          "text": [
            "\u001b[K     |████████████████████████████████| 11.9MB 340kB/s \n",
            "\u001b[?25h  Building wheel for mysql-connector-python-rf (setup.py) ... \u001b[?25l\u001b[?25hdone\n"
          ],
          "name": "stdout"
        }
      ]
    },
    {
      "cell_type": "code",
      "metadata": {
        "id": "Dfam-i5GPiqI",
        "colab_type": "code",
        "colab": {}
      },
      "source": [
        "#Import Required packages\n",
        "import mysql.connector\n",
        "from mysql.connector import Error\n",
        "import pandas as pd"
      ],
      "execution_count": 0,
      "outputs": []
    },
    {
      "cell_type": "code",
      "metadata": {
        "id": "Z23xhtyOPzHN",
        "colab_type": "code",
        "colab": {
          "base_uri": "https://localhost:8080/",
          "height": 51
        },
        "outputId": "4937e2d2-cdff-43db-d413-cbc6149e7f9c"
      },
      "source": [
        "\n",
        "#Connect to MySQL\n",
        "connection = mysql.connector.connect(host='cpanel.insaid.co',\n",
        "                                     database='Capstone1',\n",
        "                                         user='student',\n",
        "                                         password='student')\n",
        "if connection.is_connected():\n",
        "    db_Info = connection.get_server_info()\n",
        "    print(\"Connected to MySQL Server version \", db_Info)\n",
        "    cursor = connection.cursor()\n",
        "    cursor.execute(\"select database();\")\n",
        "    record = cursor.fetchone()\n",
        "    print(\"You're connected to database: \", record)"
      ],
      "execution_count": 5,
      "outputs": [
        {
          "output_type": "stream",
          "text": [
            "Connected to MySQL Server version  5.6.46-cll-lve\n",
            "You're connected to database:  ('Capstone1',)\n"
          ],
          "name": "stdout"
        }
      ]
    }
  ]
}